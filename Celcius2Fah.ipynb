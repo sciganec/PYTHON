celcius = [36.6]
fahrenheit = []
for temp in celcius:
    fahrenheit.append(((9/5)*temp)+32)
fahrenheit 
