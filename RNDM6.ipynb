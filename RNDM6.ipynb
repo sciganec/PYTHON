from random import shuffle
mylist = [1,2,3,4,5,6]
f = 1
while f<7:
    shuffle(mylist)
    print(mylist)
    f+=1
